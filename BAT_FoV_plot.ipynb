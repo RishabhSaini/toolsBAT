{
 "cells": [
  {
   "cell_type": "code",
   "execution_count": 1,
   "metadata": {},
   "outputs": [],
   "source": [
    "import ligo.skymap"
   ]
  },
  {
   "cell_type": "code",
   "execution_count": 2,
   "metadata": {
    "id": "YHvI-gMPoxxF"
   },
   "outputs": [],
   "source": [
    "import numpy as np\n",
    "import time\n",
    "import datetime\n",
    "from astropy.time import Time\n",
    "from urllib.request import urlopen\n",
    "from bs4 import BeautifulSoup\n",
    "import math\n",
    "import ephem\n",
    "def unix2met(unixtime):\n",
    "    \"\"\"Convert Unix time to Spacecraft time\"\"\"\n",
    "    return int(unixtime) - time.mktime((2001,1,1,0,0,0,0,0,0))+(unixtime-int(unixtime))"
   ]
  },
  {
   "cell_type": "markdown",
   "metadata": {
    "id": "OX25NBrxoiSq"
   },
   "source": [
    "Attitude"
   ]
  },
  {
   "cell_type": "code",
   "execution_count": 3,
   "metadata": {
    "id": "LSXrsF4ljzGb"
   },
   "outputs": [],
   "source": [
    "from astropy.time import Time\n",
    "import requests\n",
    "import urllib.parse\n",
    "import os, sys, json\n",
    "\n",
    "def unix2mjd(unixtime):\n",
    "    \"\"\"Convert UNIX timestamp into MJD\"\"\"\n",
    "    dt = Time(unixtime,format='unix',scale='utc')\n",
    "    return dt.mjd\n",
    "\n",
    "def get_attitude(trigtime_obj):\n",
    "  unixtime=time.mktime(trigtime_obj.timetuple())\n",
    "  mjd=unix2mjd(unixtime)\n",
    "  base = 'https://www.swift.psu.edu/operations/afst_json.php?mjdstart='\n",
    "  url = base+str(mjd)\n",
    "  r = requests.get(url = url)\n",
    "  settle_time = datetime.datetime.strptime(json.loads(r.text)['api_data']['entries'][0]['api_data']['settle'], \"%Y-%m-%d %H:%M:%S\")\n",
    "  if trigtime_obj<settle_time:\n",
    "    print('WARNING: Trigger time in slew. ObsSchedule pointing info not reliable. Must use attitude file.')\n",
    "    return -1,-1,-1\n",
    "  else:\n",
    "    ra=float(json.loads(r.text)['api_data']['entries'][0]['api_data']['ra'])\n",
    "    dec=float(json.loads(r.text)['api_data']['entries'][0]['api_data']['dec'])\n",
    "    roll=float(json.loads(r.text)['api_data']['entries'][0]['api_data']['roll'])\n",
    "    return ra,dec,roll"
   ]
  },
  {
   "cell_type": "markdown",
   "metadata": {
    "id": "Zpzbp-v1te4j"
   },
   "source": [
    "Attitude File Method"
   ]
  },
  {
   "cell_type": "code",
   "execution_count": 4,
   "metadata": {
    "colab": {
     "base_uri": "https://localhost:8080/"
    },
    "id": "nLYg07ivok1U",
    "outputId": "6334e518-3f6d-412a-b4bc-34921296ae89"
   },
   "outputs": [
    {
     "ename": "NameError",
     "evalue": "name 'T0' is not defined",
     "output_type": "error",
     "traceback": [
      "\u001b[0;31m---------------------------------------------------------------------------\u001b[0m",
      "\u001b[0;31mNameError\u001b[0m                                 Traceback (most recent call last)",
      "\u001b[0;32m<ipython-input-4-40b02188c1a2>\u001b[0m in \u001b[0;36m<module>\u001b[0;34m\u001b[0m\n\u001b[1;32m      8\u001b[0m \u001b[0matt_data\u001b[0m\u001b[0;34m=\u001b[0m\u001b[0matt\u001b[0m\u001b[0;34m[\u001b[0m\u001b[0;36m1\u001b[0m\u001b[0;34m]\u001b[0m\u001b[0;34m.\u001b[0m\u001b[0mdata\u001b[0m\u001b[0;34m\u001b[0m\u001b[0;34m\u001b[0m\u001b[0m\n\u001b[1;32m      9\u001b[0m \u001b[0mutcf\u001b[0m\u001b[0;34m=\u001b[0m\u001b[0matt\u001b[0m\u001b[0;34m[\u001b[0m\u001b[0;36m1\u001b[0m\u001b[0;34m]\u001b[0m\u001b[0;34m.\u001b[0m\u001b[0mheader\u001b[0m\u001b[0;34m[\u001b[0m\u001b[0;34m'utcfinit'\u001b[0m\u001b[0;34m]\u001b[0m\u001b[0;34m\u001b[0m\u001b[0;34m\u001b[0m\u001b[0m\n\u001b[0;32m---> 10\u001b[0;31m \u001b[0mprint\u001b[0m\u001b[0;34m(\u001b[0m\u001b[0mT0\u001b[0m\u001b[0;34m-\u001b[0m\u001b[0mutcf\u001b[0m\u001b[0;34m)\u001b[0m\u001b[0;34m\u001b[0m\u001b[0;34m\u001b[0m\u001b[0m\n\u001b[0m\u001b[1;32m     11\u001b[0m \u001b[0;32mfor\u001b[0m \u001b[0mpointing\u001b[0m \u001b[0;32min\u001b[0m \u001b[0matt_data\u001b[0m\u001b[0;34m:\u001b[0m\u001b[0;34m\u001b[0m\u001b[0;34m\u001b[0m\u001b[0m\n\u001b[1;32m     12\u001b[0m     \u001b[0;32mif\u001b[0m \u001b[0mabs\u001b[0m\u001b[0;34m(\u001b[0m\u001b[0mpointing\u001b[0m\u001b[0;34m[\u001b[0m\u001b[0;36m0\u001b[0m\u001b[0;34m]\u001b[0m\u001b[0;34m-\u001b[0m\u001b[0mT0\u001b[0m\u001b[0;34m+\u001b[0m\u001b[0mutcf\u001b[0m\u001b[0;34m)\u001b[0m \u001b[0;34m<\u001b[0m \u001b[0;36m1\u001b[0m\u001b[0;34m:\u001b[0m\u001b[0;34m\u001b[0m\u001b[0;34m\u001b[0m\u001b[0m\n",
      "\u001b[0;31mNameError\u001b[0m: name 'T0' is not defined"
     ]
    }
   ],
   "source": [
    "\n",
    "url = 'https://www.swift.ac.uk/archive/reproc/03110829010/auxil/sw03110829010sat.fits.gz'\n",
    "from astropy.utils.data import download_file\n",
    "from astropy.io import fits\n",
    "\n",
    "attfile = download_file(url)\n",
    "\n",
    "att = fits.open(attfile)\n",
    "att_data=att[1].data\n",
    "utcf=att[1].header['utcfinit']\n",
    "print(T0-utcf)\n",
    "for pointing in att_data:\n",
    "    if abs(pointing[0]-T0+utcf) < 1:\n",
    "        print(pointing)"
   ]
  },
  {
   "cell_type": "code",
   "execution_count": 5,
   "metadata": {
    "colab": {
     "base_uri": "https://localhost:8080/"
    },
    "id": "JPlxr14t3tJa",
    "outputId": "bd5b6ec5-bac3-42e8-eee6-d772dffd205c"
   },
   "outputs": [
    {
     "data": {
      "text/plain": [
       "-26.05738"
      ]
     },
     "execution_count": 5,
     "metadata": {},
     "output_type": "execute_result"
    }
   ],
   "source": [
    "utcf"
   ]
  },
  {
   "cell_type": "markdown",
   "metadata": {
    "id": "ybR6wBOS8q3X"
   },
   "source": [
    "# Query the BAT polygon I made for Treasure Map"
   ]
  },
  {
   "cell_type": "code",
   "execution_count": 5,
   "metadata": {
    "id": "uFIRyX388q3Z"
   },
   "outputs": [],
   "source": [
    "api_token = 'zeH0plj1hlUo0OWskopBddaQB8M8VwwYc1m86Q'\n",
    "BASE = 'http://treasuremap.space/api/v0'\n",
    "\n",
    "\n",
    "#Using this function to convert the string Polygons to a list of points\n",
    "def sanatize_footprint_ccds(ccds):\n",
    "    footprint_ccds = []\n",
    "    for footprint in ccds:\n",
    "        sanitized = footprint.strip('POLYGON ').strip(')(').split(',')\n",
    "        polygon = []\n",
    "        for vertex in sanitized:\n",
    "            obj = vertex.split()\n",
    "            ra = float(obj[0])\n",
    "            dec = float(obj[1])\n",
    "            polygon.append([ra,dec])\n",
    "        footprint_ccds.append(polygon)\n",
    "    return footprint_ccds"
   ]
  },
  {
   "cell_type": "code",
   "execution_count": 6,
   "metadata": {
    "colab": {
     "base_uri": "https://localhost:8080/",
     "height": 282
    },
    "id": "t548XdJI8q3h",
    "outputId": "7df898f2-6214-4f82-a929-3dcf247fb7e4"
   },
   "outputs": [
    {
     "name": "stdout",
     "output_type": "stream",
     "text": [
      "Requested Footprint Info\n"
     ]
    },
    {
     "data": {
      "image/png": "[encoded data removed]",
      "text/plain": [
       "<Figure size 432x288 with 1 Axes>"
      ]
     },
     "metadata": {
      "needs_background": "light"
     },
     "output_type": "display_data"
    }
   ],
   "source": [
    "import matplotlib.pyplot as plt\n",
    "from matplotlib.patches import Polygon\n",
    "from matplotlib.collections import PatchCollection\n",
    "\n",
    "TARGET = 'footprints'\n",
    "\n",
    "params = {\n",
    "            \"api_token\":api_token,\n",
    "            \"name\":\"Swift Burst Alert Telescope\"\n",
    "        }\n",
    "\n",
    "url = \"{}/{}?{}\".format(BASE, TARGET, urllib.parse.urlencode(params))\n",
    "r = requests.get(url = url)\n",
    "\n",
    "print(\"Requested Footprint Info\")\n",
    "\n",
    "footprints = json.loads(r.text)\n",
    "polygons = []\n",
    "patches = []\n",
    "\n",
    "#This gets all of the Polygon information from the json list\n",
    "for f in footprints:\n",
    "    f_info = json.loads(f)\n",
    "    polygons.append(f_info['footprint'])\n",
    "\n",
    "#converts the polygons to a list of list of points (list of polygons)\n",
    "sanatized_ccds = sanatize_footprint_ccds(polygons)\n",
    "\n",
    "#gather the points for ylim and xlim\n",
    "xs, ys = [], []\n",
    "\n",
    "for sc in sanatized_ccds:\n",
    "    #add the polygon list of points to the matplotlib patch collection\n",
    "    patches.append(Polygon(sc, False))\n",
    "    for p in sc:\n",
    "        xs.append(p[0])\n",
    "        ys.append(p[1])\n",
    "    \n",
    "p = PatchCollection(patches, alpha=0.4)\n",
    "\n",
    "fig, ax = plt.subplots()\n",
    "ax.set_xlim(min(xs)-.1, max(xs)+.1)\n",
    "ax.set_ylim(min(ys)-.1, max(ys)+.1)\n",
    "ax.add_collection(p)\n",
    "plt.show()"
   ]
  },
  {
   "cell_type": "code",
   "execution_count": 7,
   "metadata": {
    "id": "DH2Ptij28q3o"
   },
   "outputs": [],
   "source": [
    "def ra_dec_to_uvec(ra, dec):\n",
    "    phi = np.deg2rad(90 - dec)\n",
    "    theta = np.deg2rad(ra)\n",
    "    x = np.cos(theta) * np.sin(phi)\n",
    "    y = np.sin(theta) * np.sin(phi)\n",
    "    z = np.cos(phi)\n",
    "    return x, y, z\n",
    "\n",
    "def uvec_to_ra_dec(x, y, z):\n",
    "    r = np.sqrt(x**2 + y ** 2 + z ** 2)\n",
    "    x /= r\n",
    "    y /= r\n",
    "    z /= r\n",
    "    theta = np.arctan2(y, x)\n",
    "    phi = np.arccos(z)\n",
    "    dec = 90 - np.rad2deg(phi)\n",
    "    if theta < 0:\n",
    "        ra = 360 + np.rad2deg(theta)\n",
    "    else:\n",
    "        ra = np.rad2deg(theta)\n",
    "    return ra, dec\n",
    "\n",
    "def x_rot(theta_deg):\n",
    "    theta = np.deg2rad(theta_deg)\n",
    "    return np.matrix([\n",
    "        [1, 0, 0],\n",
    "        [0, np.cos(theta), -np.sin(theta)],\n",
    "        [0, np.sin(theta), np.cos(theta)]\n",
    "    ])\n",
    "\n",
    "def y_rot(theta_deg):\n",
    "    theta = np.deg2rad(theta_deg)\n",
    "    return np.matrix([\n",
    "        [np.cos(theta), 0, np.sin(theta)],\n",
    "        [0, 1, 0],\n",
    "        [-np.sin(theta), 0, np.cos(theta)]\n",
    "    ])\n",
    "\n",
    "def z_rot(theta_deg):\n",
    "    theta = np.deg2rad(theta_deg)\n",
    "    return np.matrix([\n",
    "        [np.cos(theta), -np.sin(theta), 0],\n",
    "        [np.sin(theta), np.cos(theta), 0],\n",
    "        [0, 0, 1]\n",
    "    ])\n",
    "\n",
    "\n",
    "def project_footprint(footprint, ra, dec, pos_angle):\n",
    "    if pos_angle is None:\n",
    "        pos_angle = 0.0\n",
    "\n",
    "    footprint_zero_center_ra = np.asarray([pt[0] for pt in footprint])\n",
    "    footprint_zero_center_dec = np.asarray([pt[1] for pt in footprint])\n",
    "    footprint_zero_center_uvec = ra_dec_to_uvec(footprint_zero_center_ra, footprint_zero_center_dec)\n",
    "    footprint_zero_center_x, footprint_zero_center_y, footprint_zero_center_z = footprint_zero_center_uvec\n",
    "    proj_footprint = []\n",
    "    for idx in range(footprint_zero_center_x.shape[0]):\n",
    "        vec = np.asarray([footprint_zero_center_x[idx], footprint_zero_center_y[idx], footprint_zero_center_z[idx]])\n",
    "        new_vec = vec @ x_rot(-pos_angle) @ y_rot(dec) @ z_rot(-ra)\n",
    "        new_x, new_y, new_z = new_vec.flat\n",
    "        pt_ra, pt_dec = uvec_to_ra_dec(new_x, new_y, new_z)\n",
    "        proj_footprint.append([pt_ra, pt_dec])\n",
    "    return proj_footprint"
   ]
  },
  {
   "cell_type": "markdown",
   "metadata": {
    "id": "-RkAA2K88q30"
   },
   "source": [
    "# Plot that BAT footprint on top of a GW or Fermi skymap"
   ]
  },
  {
   "cell_type": "code",
   "execution_count": 8,
   "metadata": {
    "id": "GWJ4fP8pyidX"
   },
   "outputs": [],
   "source": [
    "from ligo.skymap.io import *\n",
    "import ligo.skymap\n",
    "#from ligo.skymap.tool.ligo_skymap_plot import main\n",
    "import ligo.skymap.io\n",
    "import ligo.skymap.postprocess"
   ]
  },
  {
   "cell_type": "code",
   "execution_count": 9,
   "metadata": {
    "id": "4omCCeTK8q31"
   },
   "outputs": [],
   "source": [
    "import numpy as np\n",
    "from astropy.utils.data import download_file\n",
    "\n",
    "from astropy.coordinates import SkyCoord\n",
    "from astropy.io import fits\n",
    "from astropy import units as u\n",
    "\n",
    "from matplotlib import rcParams\n",
    "%matplotlib inline\n",
    "import matplotlib.pyplot as plt\n"
   ]
  },
  {
   "cell_type": "code",
   "execution_count": 10,
   "metadata": {
    "id": "U1Qy3YNHyvIm"
   },
   "outputs": [],
   "source": [
    "import healpy as hp\n"
   ]
  },
  {
   "cell_type": "markdown",
   "metadata": {
    "id": "7pW5vEqPu0ge"
   },
   "source": [
    "Stuff needed for Earth occultation plotting"
   ]
  },
  {
   "cell_type": "code",
   "execution_count": 11,
   "metadata": {
    "id": "w63VWsb9HIQf"
   },
   "outputs": [],
   "source": [
    "def getDataFromTLE(datetime, tleLatOffset=0, tleLonOffset=0.21):\n",
    "    # Get TLE and parse\n",
    "    url = \"https://celestrak.com/satcat/tle.php?CATNR=28485\"\n",
    "    data = urlopen(url)\n",
    "    tle_raw=data.read()\n",
    "    clean_tle = ''.join(BeautifulSoup(tle_raw, \"html.parser\").stripped_strings)\n",
    "    tle_obj = clean_tle.split('\\r\\n')\n",
    "\n",
    "    # Print age of TLE\n",
    "    year = \"20\"+tle_obj[1][18:20]\n",
    "    day = tle_obj[1][20:32]\n",
    "    #print(\"\\nTLE most recently updated \"+year+\"DOY\"+ day)\n",
    "    \n",
    "    # Create spacecraft instance\n",
    "    Swift = ephem.readtle(tle_obj[0],tle_obj[1],tle_obj[2])\n",
    "    \n",
    "    # Create observer\n",
    "    observer_Swift = ephem.Observer()\n",
    "    observer_Swift.lat = '0'\n",
    "    observer_Swift.long = '0'\n",
    "    \n",
    "    # Initialize lists\n",
    "    lat = []\n",
    "    lon = []\n",
    "    elevation = []\n",
    "    \n",
    "    # Iterate through time; compute predicted locations\n",
    "    observer_Swift.date = ephem.date(datetime)\n",
    "    \n",
    "    try:\n",
    "        Swift.compute(observer_Swift)\n",
    "    except:\n",
    "        print('Cant compute observer, maybe TLE too old?')\n",
    "        return False, False, False\n",
    "\n",
    "    lat.append(np.degrees(Swift.sublat.znorm))\n",
    "    lon.append(np.degrees(Swift.sublong.norm))\n",
    "    elevation.append(Swift.elevation)\n",
    "    # Correct for inaccuracy\n",
    "    lon = np.array(lon) - tleLonOffset\n",
    "    lat = np.array(lat) - tleLatOffset\n",
    "    \n",
    "    if len(lon) == 1: # Return single value instead of array if length is 1\n",
    "        lon = lon[0]\n",
    "        lat = lat[0]\n",
    "        elevation = elevation[0]\n",
    "\n",
    "    return lon, lat, elevation"
   ]
  },
  {
   "cell_type": "code",
   "execution_count": 12,
   "metadata": {
    "id": "dt1vCNRWNwFN"
   },
   "outputs": [],
   "source": [
    "def deg2dm(deg):\n",
    "    sign = np.sign(deg)\n",
    "    deg = np.abs(deg)\n",
    "    d = np.floor(deg)\n",
    "    m = (deg - d) * 60\n",
    "    return int(sign*d), m"
   ]
  },
  {
   "cell_type": "code",
   "execution_count": 13,
   "metadata": {
    "id": "LyhLSJcxLKPU"
   },
   "outputs": [],
   "source": [
    "def getGeoCenter(datetime, lon, lat):\n",
    "    # Define the observer to be at the location of the spacecraft\n",
    "    observer = ephem.Observer()\n",
    "\n",
    "    # Convert the longitude to +E (-180 to 180)\n",
    "    if lon > 180:\n",
    "       lon = (lon % 180) - 180\n",
    "\n",
    "    lon_deg, lon_min = deg2dm(lon)\n",
    "    lat_deg, lat_min = deg2dm(lat)\n",
    "\n",
    "    lon_string = '%s:%s' % (lon_deg, lon_min)\n",
    "    lat_string = '%s:%s' % (lat_deg, lat_min)\n",
    "\n",
    "    observer.lon = lon_string\n",
    "    observer.lat = lat_string\n",
    "    \n",
    "    # Set the time of the observations\n",
    "    observer.date = ephem.date(datetime)\n",
    "    \n",
    "    # Get the ra and dec (in radians) of the point in the sky at altitude = 90 (directly overhead)\n",
    "    ra_zenith_radians, dec_zenith_radians = observer.radec_of('0', '90')\n",
    "    \n",
    "    # convert the ra and dec to degrees\n",
    "    ra_zenith = np.degrees(ra_zenith_radians)\n",
    "    dec_zenith = np.degrees(dec_zenith_radians)\n",
    "    \n",
    "    ra_geocenter =  (ra_zenith+180) % 360\n",
    "    dec_geocenter = -1 * dec_zenith\n",
    "    \n",
    "    return ra_geocenter, dec_geocenter"
   ]
  },
  {
   "cell_type": "code",
   "execution_count": 14,
   "metadata": {
    "id": "VVRSRY2OGuEm"
   },
   "outputs": [],
   "source": [
    "def getearthsatpos(datetime):\n",
    "    tleLonOffset=0.21\n",
    "    tleLatOffset = 0\n",
    "\n",
    "    try:\n",
    "        lon, lat, elevation= getDataFromTLE(datetime, tleLatOffset=tleLatOffset, tleLonOffset=tleLonOffset)\n",
    "    except:\n",
    "        return False, False, False\n",
    "\n",
    "    if lon == False and lat == False and elevation == False:\n",
    "        return False, False, False\n",
    "\n",
    "    # Get the geo center coordinates in ra and dec\n",
    "    ra_geocenter, dec_geocenter = getGeoCenter(datetime, lon, lat)\n",
    "\n",
    "    EARTH_RADIUS = 6378.140 * 1000 #in meters\n",
    "    dtor = math.pi/180\n",
    "    elev = elevation + EARTH_RADIUS\n",
    "    earthsize_rad = np.arcsin(EARTH_RADIUS/elev)/dtor\n",
    "\n",
    "    return ra_geocenter,dec_geocenter, earthsize_rad"
   ]
  },
  {
   "cell_type": "code",
   "execution_count": 15,
   "metadata": {
    "id": "RiBqS_dV8q4Q"
   },
   "outputs": [],
   "source": [
    "def makeEarthContour(ra,dec,radius):\n",
    "    thetas = np.linspace(0, -2*np.pi, 200)\n",
    "    ras = radius * np.cos(thetas)\n",
    "    decs = radius * np.sin(thetas)\n",
    "    contour = np.c_[ras,decs]\n",
    "    Earthcont = project_footprint(contour, ra, dec, 0)\n",
    "    return Earthcont"
   ]
  },
  {
   "cell_type": "markdown",
   "metadata": {
    "id": "5iiDC7Xgu4WP"
   },
   "source": [
    "Code for splitting polygons if they span 0 deg RA"
   ]
  },
  {
   "cell_type": "code",
   "execution_count": 16,
   "metadata": {
    "id": "T7eaDs3cMhNm"
   },
   "outputs": [],
   "source": [
    "from operator import itemgetter\n",
    "def splitter(batfootprint):\n",
    "  hi=[]\n",
    "  lo=[]\n",
    "  for coord in batfootprint:\n",
    "    if coord[0]>180:\n",
    "      hi.append([coord[0],coord[1]])\n",
    "    else:\n",
    "      lo.append([coord[0],coord[1]])\n",
    "  hi=sorted(hi,key=itemgetter(1))\n",
    "\n",
    "\n",
    "  step = abs(lo[-1][1]-lo[0][1])/20\n",
    "  if lo[-1][1] > 0:\n",
    "    init = lo[-1][1]\n",
    "  else:\n",
    "    init = lo[0][1]\n",
    "  for i in range(20):\n",
    "    lo.append([0.1,init-i*step])\n",
    "\n",
    "  step = abs(hi[-1][1]-hi[0][1])/20\n",
    "  while step < 0.1:\n",
    "    hi= hi[:-1]\n",
    "    step = abs(hi[-1][1]-hi[0][1])/20\n",
    "  if hi[-1][1] > 0:\n",
    "    init = hi[-1][1]\n",
    "  else:\n",
    "    init = hi[0][1]\n",
    "  for i in range(20):\n",
    "    hi.append([359.9,init-i*step])\n",
    "\n",
    "  return lo,hi"
   ]
  },
  {
   "cell_type": "markdown",
   "metadata": {
    "id": "eByaUVbou_rP"
   },
   "source": [
    "Make the damn figure already"
   ]
  },
  {
   "cell_type": "code",
   "execution_count": 17,
   "metadata": {
    "colab": {
     "base_uri": "https://localhost:8080/"
    },
    "id": "oKmXwcMmpJoa",
    "outputId": "97fec3a1-6ce5-4d06-8bbc-74afda571783"
   },
   "outputs": [
    {
     "name": "stdout",
     "output_type": "stream",
     "text": [
      "2020-07-18 22:12:32\n",
      "1595124752.0\n",
      "616799577.385\n"
     ]
    }
   ],
   "source": [
    "s='2020-07-18T22:12:32'\n",
    "trigtime_obj=datetime.datetime.strptime(s, \"%Y-%m-%dT%H:%M:%S\")\n",
    "print(trigtime_obj)\n",
    "unixtime = time.mktime(trigtime_obj.timetuple())\n",
    "print(unixtime)\n",
    "T0=unix2met(unixtime)\n",
    "print(T0+25.385)"
   ]
  },
  {
   "cell_type": "code",
   "execution_count": 18,
   "metadata": {
    "colab": {
     "base_uri": "https://localhost:8080/"
    },
    "id": "KK4_GnYIkI79",
    "outputId": "4b62d744-754a-428f-9c65-c05e64057766"
   },
   "outputs": [
    {
     "ename": "IndexError",
     "evalue": "list index out of range",
     "output_type": "error",
     "traceback": [
      "\u001b[0;31m---------------------------------------------------------------------------\u001b[0m",
      "\u001b[0;31mIndexError\u001b[0m                                Traceback (most recent call last)",
      "\u001b[0;32m<ipython-input-18-dee2e20d3050>\u001b[0m in \u001b[0;36m<module>\u001b[0;34m\u001b[0m\n\u001b[0;32m----> 1\u001b[0;31m \u001b[0mra\u001b[0m\u001b[0;34m,\u001b[0m\u001b[0mdec\u001b[0m\u001b[0;34m,\u001b[0m\u001b[0mroll\u001b[0m \u001b[0;34m=\u001b[0m \u001b[0mget_attitude\u001b[0m\u001b[0;34m(\u001b[0m\u001b[0mtrigtime_obj\u001b[0m\u001b[0;34m)\u001b[0m\u001b[0;34m\u001b[0m\u001b[0;34m\u001b[0m\u001b[0m\n\u001b[0m\u001b[1;32m      2\u001b[0m \u001b[0mprint\u001b[0m\u001b[0;34m(\u001b[0m\u001b[0mra\u001b[0m\u001b[0;34m,\u001b[0m\u001b[0mdec\u001b[0m\u001b[0;34m,\u001b[0m\u001b[0mroll\u001b[0m\u001b[0;34m)\u001b[0m\u001b[0;34m\u001b[0m\u001b[0;34m\u001b[0m\u001b[0m\n",
      "\u001b[0;32m<ipython-input-3-f612fed2a468>\u001b[0m in \u001b[0;36mget_attitude\u001b[0;34m(trigtime_obj)\u001b[0m\n\u001b[1;32m     15\u001b[0m   \u001b[0murl\u001b[0m \u001b[0;34m=\u001b[0m \u001b[0mbase\u001b[0m\u001b[0;34m+\u001b[0m\u001b[0mstr\u001b[0m\u001b[0;34m(\u001b[0m\u001b[0mmjd\u001b[0m\u001b[0;34m)\u001b[0m\u001b[0;34m\u001b[0m\u001b[0;34m\u001b[0m\u001b[0m\n\u001b[1;32m     16\u001b[0m   \u001b[0mr\u001b[0m \u001b[0;34m=\u001b[0m \u001b[0mrequests\u001b[0m\u001b[0;34m.\u001b[0m\u001b[0mget\u001b[0m\u001b[0;34m(\u001b[0m\u001b[0murl\u001b[0m \u001b[0;34m=\u001b[0m \u001b[0murl\u001b[0m\u001b[0;34m)\u001b[0m\u001b[0;34m\u001b[0m\u001b[0;34m\u001b[0m\u001b[0m\n\u001b[0;32m---> 17\u001b[0;31m   \u001b[0msettle_time\u001b[0m \u001b[0;34m=\u001b[0m \u001b[0mdatetime\u001b[0m\u001b[0;34m.\u001b[0m\u001b[0mdatetime\u001b[0m\u001b[0;34m.\u001b[0m\u001b[0mstrptime\u001b[0m\u001b[0;34m(\u001b[0m\u001b[0mjson\u001b[0m\u001b[0;34m.\u001b[0m\u001b[0mloads\u001b[0m\u001b[0;34m(\u001b[0m\u001b[0mr\u001b[0m\u001b[0;34m.\u001b[0m\u001b[0mtext\u001b[0m\u001b[0;34m)\u001b[0m\u001b[0;34m[\u001b[0m\u001b[0;34m'api_data'\u001b[0m\u001b[0;34m]\u001b[0m\u001b[0;34m[\u001b[0m\u001b[0;34m'entries'\u001b[0m\u001b[0;34m]\u001b[0m\u001b[0;34m[\u001b[0m\u001b[0;36m0\u001b[0m\u001b[0;34m]\u001b[0m\u001b[0;34m[\u001b[0m\u001b[0;34m'api_data'\u001b[0m\u001b[0;34m]\u001b[0m\u001b[0;34m[\u001b[0m\u001b[0;34m'settle'\u001b[0m\u001b[0;34m]\u001b[0m\u001b[0;34m,\u001b[0m \u001b[0;34m\"%Y-%m-%d %H:%M:%S\"\u001b[0m\u001b[0;34m)\u001b[0m\u001b[0;34m\u001b[0m\u001b[0;34m\u001b[0m\u001b[0m\n\u001b[0m\u001b[1;32m     18\u001b[0m   \u001b[0;32mif\u001b[0m \u001b[0mtrigtime_obj\u001b[0m\u001b[0;34m<\u001b[0m\u001b[0msettle_time\u001b[0m\u001b[0;34m:\u001b[0m\u001b[0;34m\u001b[0m\u001b[0;34m\u001b[0m\u001b[0m\n\u001b[1;32m     19\u001b[0m     \u001b[0mprint\u001b[0m\u001b[0;34m(\u001b[0m\u001b[0;34m'WARNING: Trigger time in slew. ObsSchedule pointing info not reliable. Must use attitude file.'\u001b[0m\u001b[0;34m)\u001b[0m\u001b[0;34m\u001b[0m\u001b[0;34m\u001b[0m\u001b[0m\n",
      "\u001b[0;31mIndexError\u001b[0m: list index out of range"
     ]
    }
   ],
   "source": [
    "ra,dec,roll = get_attitude(trigtime_obj)\n",
    "print(ra,dec,roll)"
   ]
  },
  {
   "cell_type": "code",
   "execution_count": 19,
   "metadata": {
    "id": "caYbXx0J8q3x"
   },
   "outputs": [
    {
     "ename": "NameError",
     "evalue": "name 'ra' is not defined",
     "output_type": "error",
     "traceback": [
      "\u001b[0;31m---------------------------------------------------------------------------\u001b[0m",
      "\u001b[0;31mNameError\u001b[0m                                 Traceback (most recent call last)",
      "\u001b[0;32m<ipython-input-19-38fd6aa37cdb>\u001b[0m in \u001b[0;36m<module>\u001b[0;34m\u001b[0m\n\u001b[0;32m----> 1\u001b[0;31m \u001b[0mbatfootprint\u001b[0m\u001b[0;34m=\u001b[0m\u001b[0mproject_footprint\u001b[0m\u001b[0;34m(\u001b[0m\u001b[0msc\u001b[0m\u001b[0;34m,\u001b[0m \u001b[0mra\u001b[0m\u001b[0;34m,\u001b[0m\u001b[0mdec\u001b[0m\u001b[0;34m,\u001b[0m\u001b[0;36m360\u001b[0m\u001b[0;34m-\u001b[0m\u001b[0mroll\u001b[0m\u001b[0;34m)\u001b[0m\u001b[0;34m\u001b[0m\u001b[0;34m\u001b[0m\u001b[0m\n\u001b[0m",
      "\u001b[0;31mNameError\u001b[0m: name 'ra' is not defined"
     ]
    }
   ],
   "source": [
    "batfootprint=project_footprint(sc, ra,dec,360-roll)"
   ]
  },
  {
   "cell_type": "code",
   "execution_count": 22,
   "metadata": {
    "colab": {
     "base_uri": "https://localhost:8080/"
    },
    "id": "dhKxfYHp8q35",
    "outputId": "9576b86d-424e-4a67-cc92-931e8054980e"
   },
   "outputs": [
    {
     "name": "stderr",
     "output_type": "stream",
     "text": [
      "/home/aaron/.local/lib/python3.6/site-packages/healpy/fitsfunc.py:369: UserWarning: If you are not specifying the input dtype and using the default np.float64 dtype of read_map(), please consider that it will change in a future version to None as to keep the same dtype of the input file: please explicitly set the dtype if it is important to you.\n",
      "  \"If you are not specifying the input dtype and using the default \"\n",
      "/home/aaron/.local/lib/python3.6/site-packages/healpy/fitsfunc.py:391: UserWarning: NSIDE = 128\n",
      "  warnings.warn(\"NSIDE = {0:d}\".format(nside))\n",
      "/home/aaron/.local/lib/python3.6/site-packages/healpy/fitsfunc.py:400: UserWarning: ORDERING = NESTED in fits file\n",
      "  warnings.warn(\"ORDERING = {0:s} in fits file\".format(ordering))\n",
      "/home/aaron/.local/lib/python3.6/site-packages/healpy/fitsfunc.py:428: UserWarning: INDXSCHM = IMPLICIT\n",
      "  warnings.warn(\"INDXSCHM = {0:s}\".format(schm))\n",
      "/home/aaron/.local/lib/python3.6/site-packages/healpy/fitsfunc.py:486: UserWarning: Ordering converted to RING\n",
      "  warnings.warn(\"Ordering converted to RING\")\n"
     ]
    }
   ],
   "source": [
    "url = 'https://heasarc.gsfc.nasa.gov/FTP/fermi/data/gbm/triggers/2020/bn201227635/quicklook/glg_healpix_all_bn201227635.fit'\n",
    "skymapfile = download_file(url, cache=True) \n",
    "#skymap, metadata = ligo.skymap.io.fits.read_sky_map(url, nest=True, distances=False)\n",
    "\n",
    "#nside=hp.get_nside(skymap)\n",
    "skymap = hp.read_map(skymapfile)\n",
    "nside = 128\n",
    "deg2perpix = hp.nside2pixarea(nside, degrees=True)\n",
    "probperdeg2 = skymap / deg2perpix\n",
    "annotate = True\n",
    "contour = (50,90)"
   ]
  },
  {
   "cell_type": "code",
   "execution_count": 20,
   "metadata": {
    "colab": {
     "base_uri": "https://localhost:8080/",
     "height": 638
    },
    "id": "EaPgbnHH8q4T",
    "outputId": "a10edc12-d713-4c29-fa14-666c1dc7f716"
   },
   "outputs": [
    {
     "ename": "ValueError",
     "evalue": "Unknown projection 'astro hours mollweide'",
     "output_type": "error",
     "traceback": [
      "\u001b[0;31m---------------------------------------------------------------------------\u001b[0m",
      "\u001b[0;31mKeyError\u001b[0m                                  Traceback (most recent call last)",
      "\u001b[0;32m~/anaconda3/lib/python3.8/site-packages/matplotlib/projections/__init__.py\u001b[0m in \u001b[0;36mget_projection_class\u001b[0;34m(projection)\u001b[0m\n\u001b[1;32m     53\u001b[0m     \u001b[0;32mtry\u001b[0m\u001b[0;34m:\u001b[0m\u001b[0;34m\u001b[0m\u001b[0;34m\u001b[0m\u001b[0m\n\u001b[0;32m---> 54\u001b[0;31m         \u001b[0;32mreturn\u001b[0m \u001b[0mprojection_registry\u001b[0m\u001b[0;34m.\u001b[0m\u001b[0mget_projection_class\u001b[0m\u001b[0;34m(\u001b[0m\u001b[0mprojection\u001b[0m\u001b[0;34m)\u001b[0m\u001b[0;34m\u001b[0m\u001b[0;34m\u001b[0m\u001b[0m\n\u001b[0m\u001b[1;32m     55\u001b[0m     \u001b[0;32mexcept\u001b[0m \u001b[0mKeyError\u001b[0m \u001b[0;32mas\u001b[0m \u001b[0merr\u001b[0m\u001b[0;34m:\u001b[0m\u001b[0;34m\u001b[0m\u001b[0;34m\u001b[0m\u001b[0m\n",
      "\u001b[0;32m~/anaconda3/lib/python3.8/site-packages/matplotlib/projections/__init__.py\u001b[0m in \u001b[0;36mget_projection_class\u001b[0;34m(self, name)\u001b[0m\n\u001b[1;32m     20\u001b[0m         \u001b[0;34m\"\"\"Get a projection class from its *name*.\"\"\"\u001b[0m\u001b[0;34m\u001b[0m\u001b[0;34m\u001b[0m\u001b[0m\n\u001b[0;32m---> 21\u001b[0;31m         \u001b[0;32mreturn\u001b[0m \u001b[0mself\u001b[0m\u001b[0;34m.\u001b[0m\u001b[0m_all_projection_types\u001b[0m\u001b[0;34m[\u001b[0m\u001b[0mname\u001b[0m\u001b[0;34m]\u001b[0m\u001b[0;34m\u001b[0m\u001b[0;34m\u001b[0m\u001b[0m\n\u001b[0m\u001b[1;32m     22\u001b[0m \u001b[0;34m\u001b[0m\u001b[0m\n",
      "\u001b[0;31mKeyError\u001b[0m: 'astro hours mollweide'",
      "\nThe above exception was the direct cause of the following exception:\n",
      "\u001b[0;31mValueError\u001b[0m                                Traceback (most recent call last)",
      "\u001b[0;32m<ipython-input-20-1d03e54a6094>\u001b[0m in \u001b[0;36m<module>\u001b[0;34m\u001b[0m\n\u001b[1;32m      2\u001b[0m \u001b[0;34m\u001b[0m\u001b[0m\n\u001b[1;32m      3\u001b[0m \u001b[0mcenter\u001b[0m \u001b[0;34m=\u001b[0m \u001b[0mSkyCoord\u001b[0m\u001b[0;34m(\u001b[0m\u001b[0;36m116\u001b[0m\u001b[0;34m,\u001b[0m \u001b[0;34m-\u001b[0m\u001b[0;36m72\u001b[0m\u001b[0;34m,\u001b[0m \u001b[0munit\u001b[0m\u001b[0;34m=\u001b[0m\u001b[0;34m\"deg\"\u001b[0m\u001b[0;34m)\u001b[0m  \u001b[0;31m# defaults to ICRS frame\u001b[0m\u001b[0;34m\u001b[0m\u001b[0;34m\u001b[0m\u001b[0m\n\u001b[0;32m----> 4\u001b[0;31m \u001b[0max\u001b[0m \u001b[0;34m=\u001b[0m \u001b[0mplt\u001b[0m\u001b[0;34m.\u001b[0m\u001b[0maxes\u001b[0m\u001b[0;34m(\u001b[0m\u001b[0mprojection\u001b[0m\u001b[0;34m=\u001b[0m\u001b[0;34m'astro hours mollweide'\u001b[0m\u001b[0;34m)\u001b[0m\u001b[0;31m#, center = center, radius = 50*u.degree)#radius, center options\u001b[0m\u001b[0;34m\u001b[0m\u001b[0;34m\u001b[0m\u001b[0m\n\u001b[0m\u001b[1;32m      5\u001b[0m \u001b[0max\u001b[0m\u001b[0;34m.\u001b[0m\u001b[0mgrid\u001b[0m\u001b[0;34m(\u001b[0m\u001b[0;34m)\u001b[0m\u001b[0;34m\u001b[0m\u001b[0;34m\u001b[0m\u001b[0m\n\u001b[1;32m      6\u001b[0m \u001b[0;32mtry\u001b[0m\u001b[0;34m:\u001b[0m\u001b[0;34m\u001b[0m\u001b[0;34m\u001b[0m\u001b[0m\n",
      "\u001b[0;32m~/anaconda3/lib/python3.8/site-packages/matplotlib/pyplot.py\u001b[0m in \u001b[0;36maxes\u001b[0;34m(arg, **kwargs)\u001b[0m\n\u001b[1;32m   1069\u001b[0m     \u001b[0mfig\u001b[0m \u001b[0;34m=\u001b[0m \u001b[0mgcf\u001b[0m\u001b[0;34m(\u001b[0m\u001b[0;34m)\u001b[0m\u001b[0;34m\u001b[0m\u001b[0;34m\u001b[0m\u001b[0m\n\u001b[1;32m   1070\u001b[0m     \u001b[0;32mif\u001b[0m \u001b[0marg\u001b[0m \u001b[0;32mis\u001b[0m \u001b[0;32mNone\u001b[0m\u001b[0;34m:\u001b[0m\u001b[0;34m\u001b[0m\u001b[0;34m\u001b[0m\u001b[0m\n\u001b[0;32m-> 1071\u001b[0;31m         \u001b[0;32mreturn\u001b[0m \u001b[0mfig\u001b[0m\u001b[0;34m.\u001b[0m\u001b[0madd_subplot\u001b[0m\u001b[0;34m(\u001b[0m\u001b[0;34m**\u001b[0m\u001b[0mkwargs\u001b[0m\u001b[0;34m)\u001b[0m\u001b[0;34m\u001b[0m\u001b[0;34m\u001b[0m\u001b[0m\n\u001b[0m\u001b[1;32m   1072\u001b[0m     \u001b[0;32melse\u001b[0m\u001b[0;34m:\u001b[0m\u001b[0;34m\u001b[0m\u001b[0;34m\u001b[0m\u001b[0m\n\u001b[1;32m   1073\u001b[0m         \u001b[0;32mreturn\u001b[0m \u001b[0mfig\u001b[0m\u001b[0;34m.\u001b[0m\u001b[0madd_axes\u001b[0m\u001b[0;34m(\u001b[0m\u001b[0marg\u001b[0m\u001b[0;34m,\u001b[0m \u001b[0;34m**\u001b[0m\u001b[0mkwargs\u001b[0m\u001b[0;34m)\u001b[0m\u001b[0;34m\u001b[0m\u001b[0;34m\u001b[0m\u001b[0m\n",
      "\u001b[0;32m~/anaconda3/lib/python3.8/site-packages/matplotlib/figure.py\u001b[0m in \u001b[0;36madd_subplot\u001b[0;34m(self, *args, **kwargs)\u001b[0m\n\u001b[1;32m    780\u001b[0m                     and 100 <= args[0] <= 999):\n\u001b[1;32m    781\u001b[0m                 \u001b[0margs\u001b[0m \u001b[0;34m=\u001b[0m \u001b[0mtuple\u001b[0m\u001b[0;34m(\u001b[0m\u001b[0mmap\u001b[0m\u001b[0;34m(\u001b[0m\u001b[0mint\u001b[0m\u001b[0;34m,\u001b[0m \u001b[0mstr\u001b[0m\u001b[0;34m(\u001b[0m\u001b[0margs\u001b[0m\u001b[0;34m[\u001b[0m\u001b[0;36m0\u001b[0m\u001b[0;34m]\u001b[0m\u001b[0;34m)\u001b[0m\u001b[0;34m)\u001b[0m\u001b[0;34m)\u001b[0m\u001b[0;34m\u001b[0m\u001b[0;34m\u001b[0m\u001b[0m\n\u001b[0;32m--> 782\u001b[0;31m             projection_class, pkw = self._process_projection_requirements(\n\u001b[0m\u001b[1;32m    783\u001b[0m                 *args, **kwargs)\n\u001b[1;32m    784\u001b[0m             \u001b[0max\u001b[0m \u001b[0;34m=\u001b[0m \u001b[0msubplot_class_factory\u001b[0m\u001b[0;34m(\u001b[0m\u001b[0mprojection_class\u001b[0m\u001b[0;34m)\u001b[0m\u001b[0;34m(\u001b[0m\u001b[0mself\u001b[0m\u001b[0;34m,\u001b[0m \u001b[0;34m*\u001b[0m\u001b[0margs\u001b[0m\u001b[0;34m,\u001b[0m \u001b[0;34m**\u001b[0m\u001b[0mpkw\u001b[0m\u001b[0;34m)\u001b[0m\u001b[0;34m\u001b[0m\u001b[0;34m\u001b[0m\u001b[0m\n",
      "\u001b[0;32m~/anaconda3/lib/python3.8/site-packages/matplotlib/figure.py\u001b[0m in \u001b[0;36m_process_projection_requirements\u001b[0;34m(self, axes_class, polar, projection, *args, **kwargs)\u001b[0m\n\u001b[1;32m   1586\u001b[0m \u001b[0;34m\u001b[0m\u001b[0m\n\u001b[1;32m   1587\u001b[0m             \u001b[0;32mif\u001b[0m \u001b[0misinstance\u001b[0m\u001b[0;34m(\u001b[0m\u001b[0mprojection\u001b[0m\u001b[0;34m,\u001b[0m \u001b[0mstr\u001b[0m\u001b[0;34m)\u001b[0m \u001b[0;32mor\u001b[0m \u001b[0mprojection\u001b[0m \u001b[0;32mis\u001b[0m \u001b[0;32mNone\u001b[0m\u001b[0;34m:\u001b[0m\u001b[0;34m\u001b[0m\u001b[0;34m\u001b[0m\u001b[0m\n\u001b[0;32m-> 1588\u001b[0;31m                 \u001b[0mprojection_class\u001b[0m \u001b[0;34m=\u001b[0m \u001b[0mprojections\u001b[0m\u001b[0;34m.\u001b[0m\u001b[0mget_projection_class\u001b[0m\u001b[0;34m(\u001b[0m\u001b[0mprojection\u001b[0m\u001b[0;34m)\u001b[0m\u001b[0;34m\u001b[0m\u001b[0;34m\u001b[0m\u001b[0m\n\u001b[0m\u001b[1;32m   1589\u001b[0m             \u001b[0;32melif\u001b[0m \u001b[0mhasattr\u001b[0m\u001b[0;34m(\u001b[0m\u001b[0mprojection\u001b[0m\u001b[0;34m,\u001b[0m \u001b[0;34m'_as_mpl_axes'\u001b[0m\u001b[0;34m)\u001b[0m\u001b[0;34m:\u001b[0m\u001b[0;34m\u001b[0m\u001b[0;34m\u001b[0m\u001b[0m\n\u001b[1;32m   1590\u001b[0m                 \u001b[0mprojection_class\u001b[0m\u001b[0;34m,\u001b[0m \u001b[0mextra_kwargs\u001b[0m \u001b[0;34m=\u001b[0m \u001b[0mprojection\u001b[0m\u001b[0;34m.\u001b[0m\u001b[0m_as_mpl_axes\u001b[0m\u001b[0;34m(\u001b[0m\u001b[0;34m)\u001b[0m\u001b[0;34m\u001b[0m\u001b[0;34m\u001b[0m\u001b[0m\n",
      "\u001b[0;32m~/anaconda3/lib/python3.8/site-packages/matplotlib/projections/__init__.py\u001b[0m in \u001b[0;36mget_projection_class\u001b[0;34m(projection)\u001b[0m\n\u001b[1;32m     54\u001b[0m         \u001b[0;32mreturn\u001b[0m \u001b[0mprojection_registry\u001b[0m\u001b[0;34m.\u001b[0m\u001b[0mget_projection_class\u001b[0m\u001b[0;34m(\u001b[0m\u001b[0mprojection\u001b[0m\u001b[0;34m)\u001b[0m\u001b[0;34m\u001b[0m\u001b[0;34m\u001b[0m\u001b[0m\n\u001b[1;32m     55\u001b[0m     \u001b[0;32mexcept\u001b[0m \u001b[0mKeyError\u001b[0m \u001b[0;32mas\u001b[0m \u001b[0merr\u001b[0m\u001b[0;34m:\u001b[0m\u001b[0;34m\u001b[0m\u001b[0;34m\u001b[0m\u001b[0m\n\u001b[0;32m---> 56\u001b[0;31m         \u001b[0;32mraise\u001b[0m \u001b[0mValueError\u001b[0m\u001b[0;34m(\u001b[0m\u001b[0;34m\"Unknown projection %r\"\u001b[0m \u001b[0;34m%\u001b[0m \u001b[0mprojection\u001b[0m\u001b[0;34m)\u001b[0m \u001b[0;32mfrom\u001b[0m \u001b[0merr\u001b[0m\u001b[0;34m\u001b[0m\u001b[0;34m\u001b[0m\u001b[0m\n\u001b[0m\u001b[1;32m     57\u001b[0m \u001b[0;34m\u001b[0m\u001b[0m\n\u001b[1;32m     58\u001b[0m \u001b[0;34m\u001b[0m\u001b[0m\n",
      "\u001b[0;31mValueError\u001b[0m: Unknown projection 'astro hours mollweide'"
     ]
    },
    {
     "data": {
      "text/plain": [
       "<Figure size 1500x1500 with 0 Axes>"
      ]
     },
     "metadata": {},
     "output_type": "display_data"
    }
   ],
   "source": [
    "fig = plt.figure(figsize=(15, 15), dpi=100)\n",
    "\n",
    "center = SkyCoord(116, -72, unit=\"deg\")  # defaults to ICRS frame\n",
    "ax = plt.axes(projection='astro hours mollweide')#, center = center, radius = 50*u.degree)#radius, center options\n",
    "ax.grid()\n",
    "try:\n",
    "  vmax = probperdeg2.max()\n",
    "  img = ax.imshow_hpx((probperdeg2, 'ICRS'), nested=False, vmin=0., vmax=vmax, cmap='cylon')\n",
    "  cls = 100* ligo.skymap.postprocess.util.find_greedy_credible_levels(skymap)\n",
    "  cs = ax.contour_hpx((cls, 'ICRS'), nested=metadata['nest'],colors='k', linewidths=0.5, levels=(50,90))\n",
    "except:\n",
    "  print('No map')\n",
    "fmt = r'%g\\%%' if rcParams['text.usetex'] else '%g%%'\n",
    "#plt.clabel(cs, fmt=fmt, fontsize=6, inline=True)\n",
    "\n",
    "\n",
    "ra,dec,radius = getearthsatpos(trigtime_obj)\n",
    "earthfoot=makeEarthContour(ra,dec,radius)\n",
    "from matplotlib.patches import Polygon\n",
    "earth = Polygon( earthfoot, facecolor='blue', edgecolor='green', alpha=0.4, closed=True, transform=ax.get_transform('fk5'))\n",
    "ax.add_patch(earth)\n",
    "\n",
    "ax.plot_coord(SkyCoord(150, 69, unit='deg'),'o',markerfacecolor ='blue',markersize=10)\n",
    "ax.text(150, 69,'FRB', transform=ax.get_transform('fk5'),fontsize=15, color='blue')\n",
    "\n",
    "\n",
    "# poly = Polygon( batfootprint, facecolor='green', edgecolor='green', alpha=0.4, closed=True, transform=ax.get_transform('fk5'))\n",
    "# ax.add_patch(poly)\n",
    "\n",
    "split=True\n",
    "if split:\n",
    "  lo,hi=splitter(batfootprint)\n",
    "  polylo = Polygon( lo, facecolor='green', edgecolor='green', alpha=0.4, closed=True, transform=ax.get_transform('fk5'))\n",
    "  ax.add_patch(polylo)\n",
    "  polyhi = Polygon( hi, facecolor='green', edgecolor='green', alpha=0.4, closed=True, transform=ax.get_transform('fk5'))\n",
    "  ax.add_patch(polyhi)\n",
    "\n",
    "\n",
    "ligo.skymap.plot.outline_text(ax)\n",
    "plt.title('FRB 200206a M81')"
   ]
  },
  {
   "cell_type": "code",
   "execution_count": 24,
   "metadata": {
    "id": "YNKnWDaqzkly"
   },
   "outputs": [
    {
     "ename": "ModuleNotFoundError",
     "evalue": "No module named 'swifttools'",
     "output_type": "error",
     "traceback": [
      "\u001b[0;31m---------------------------------------------------------------------------\u001b[0m",
      "\u001b[0;31mModuleNotFoundError\u001b[0m                       Traceback (most recent call last)",
      "\u001b[0;32m<ipython-input-24-78248753af57>\u001b[0m in \u001b[0;36m<module>\u001b[0;34m\u001b[0m\n\u001b[0;32m----> 1\u001b[0;31m \u001b[0;32mimport\u001b[0m \u001b[0mswifttools\u001b[0m\u001b[0;34m\u001b[0m\u001b[0;34m\u001b[0m\u001b[0m\n\u001b[0m",
      "\u001b[0;31mModuleNotFoundError\u001b[0m: No module named 'swifttools'"
     ]
    }
   ],
   "source": [
    "import swifttools"
   ]
  },
  {
   "cell_type": "code",
   "execution_count": null,
   "metadata": {},
   "outputs": [],
   "source": []
  }
 ],
 "metadata": {
  "colab": {
   "collapsed_sections": [],
   "name": "BAT footprint projection and plotting stuff.ipynb",
   "provenance": []
  },
  "kernelspec": {
   "display_name": "Python 3",
   "language": "python",
   "name": "python3"
  },
  "language_info": {
   "codemirror_mode": {
    "name": "ipython",
    "version": 3
   },
   "file_extension": ".py",
   "mimetype": "text/x-python",
   "name": "python",
   "nbconvert_exporter": "python",
   "pygments_lexer": "ipython3",
   "version": "3.8.3"
  }
 },
 "nbformat": 4,
 "nbformat_minor": 4
}
